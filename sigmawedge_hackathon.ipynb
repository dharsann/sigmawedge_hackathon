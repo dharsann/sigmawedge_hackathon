{
 "cells": [
  {
   "cell_type": "code",
   "execution_count": null,
   "id": "995e2b7e-824f-418a-9f3c-daad295ac34b",
   "metadata": {
    "tags": []
   },
   "outputs": [],
   "source": [
    "from quantrocket.license import set_license\n",
    "\n",
    "set_license(\"45036507-dfa7-11ee-ad56-5d738746c51e\")"
   ]
  },
  {
   "cell_type": "code",
   "execution_count": null,
   "id": "e0619a92-7c7c-408e-9db5-8c234f7a6b69",
   "metadata": {
    "tags": []
   },
   "outputs": [],
   "source": [
    "from quantrocket.license import get_license_profile\n",
    "\n",
    "license_profile = get_license_profile()\n",
    "print(license_profile)"
   ]
  },
  {
   "cell_type": "code",
   "execution_count": null,
   "id": "2278f0c4-433b-43c8-87cf-59ef34e26d5a",
   "metadata": {
    "tags": []
   },
   "outputs": [],
   "source": [
    "from quantrocket.codeload import clone\n",
    "clone(\"moonshot-intro\",replace=True)"
   ]
  },
  {
   "cell_type": "code",
   "execution_count": null,
   "id": "be54e954-8b2c-4c40-87fd-0a50d475fd1f",
   "metadata": {
    "tags": []
   },
   "outputs": [],
   "source": [
    "from quantrocket.history import create_usstock_db\n",
    "create_usstock_db(\"usstock-free-1d\", bar_size=\"1 day\", free=True)"
   ]
  },
  {
   "cell_type": "code",
   "execution_count": null,
   "id": "ec87a578-bfa7-498b-a298-4711effe4a8e",
   "metadata": {
    "tags": []
   },
   "outputs": [],
   "source": [
    "from quantrocket.history import collect_history\n",
    "collect_history(\"usstock-free-1d\")"
   ]
  },
  {
   "cell_type": "code",
   "execution_count": null,
   "id": "10d5218f-ab14-41d6-ae09-6cf1d7c1c1d3",
   "metadata": {
    "tags": []
   },
   "outputs": [],
   "source": [
    "from quantrocket.master import get_securities\n",
    "# by specifying sec_types='STK', we exclude ETFs, which are present in the sample data \n",
    "securities = get_securities(vendors=\"usstock\", sec_types=\"STK\")\n",
    "securities.head()"
   ]
  },
  {
   "cell_type": "code",
   "execution_count": null,
   "id": "81ebf054-23d1-4c28-bd9b-af66cca07c27",
   "metadata": {
    "tags": []
   },
   "outputs": [],
   "source": [
    "from quantrocket.master import create_universe\n",
    "create_universe(\"usstock-free\", sids=securities.index.tolist())"
   ]
  },
  {
   "cell_type": "code",
   "execution_count": null,
   "id": "7d4f9c59-9a40-406f-8002-1c66c62382c5",
   "metadata": {
    "tags": []
   },
   "outputs": [],
   "source": [
    "filtered_securities = securities[securities.Delisted==False]\n",
    "# also limit the number of columns for readability\n",
    "filtered_securities = filtered_securities[[\"Symbol\", \"Exchange\", \"Name\", \"Delisted\"]]\n",
    "filtered_securities.head()"
   ]
  },
  {
   "cell_type": "code",
   "execution_count": null,
   "id": "1acce696-a126-42d3-9b70-d5ec5f0a6fb9",
   "metadata": {
    "tags": []
   },
   "outputs": [],
   "source": [
    "create_universe(\"usstock-free-active\", sids=filtered_securities.index.tolist())"
   ]
  },
  {
   "cell_type": "code",
   "execution_count": 17,
   "id": "a4870bf0-f63a-4989-a108-c1c364e2dc45",
   "metadata": {
    "tags": []
   },
   "outputs": [],
   "source": [
    "#Dataset import\n",
    "import pandas as pd\n",
    "from quantrocket.history import download_history_file\n",
    "sid_aapl = \"FIBBG000B9XRY4\"\n",
    "download_history_file(\n",
    "    \"usstock-free-1d\",\n",
    "    start_date=\"2023-01-01\",\n",
    "    end_date=\"2023-12-31\",\n",
    "    sids=sid_aapl,\n",
    "    fields=[\"Close\"],\n",
    "    filepath_or_buffer=\"aapl_prices.csv\"\n",
    ")"
   ]
  },
  {
   "cell_type": "code",
   "execution_count": 4,
   "id": "3a46f1b0-8164-4cc0-87e2-af3be90d5f22",
   "metadata": {
    "tags": []
   },
   "outputs": [],
   "source": [
    "# read the aapl_prices.csv file\n",
    "data = pd.read_csv(\"aapl_prices.csv\")\n",
    "df = pd.DataFrame(data)"
   ]
  },
  {
   "cell_type": "code",
   "execution_count": 5,
   "id": "f4754a3e-211c-4bad-b0a8-e07ac09b11fb",
   "metadata": {
    "tags": []
   },
   "outputs": [
    {
     "data": {
      "text/html": [
       "<div>\n",
       "<style scoped>\n",
       "    .dataframe tbody tr th:only-of-type {\n",
       "        vertical-align: middle;\n",
       "    }\n",
       "\n",
       "    .dataframe tbody tr th {\n",
       "        vertical-align: top;\n",
       "    }\n",
       "\n",
       "    .dataframe thead th {\n",
       "        text-align: right;\n",
       "    }\n",
       "</style>\n",
       "<table border=\"1\" class=\"dataframe\">\n",
       "  <thead>\n",
       "    <tr style=\"text-align: right;\">\n",
       "      <th></th>\n",
       "      <th>Sid</th>\n",
       "      <th>Date</th>\n",
       "      <th>Close</th>\n",
       "    </tr>\n",
       "  </thead>\n",
       "  <tbody>\n",
       "    <tr>\n",
       "      <th>0</th>\n",
       "      <td>FIBBG000B9XRY4</td>\n",
       "      <td>2023-01-03</td>\n",
       "      <td>124.2163</td>\n",
       "    </tr>\n",
       "    <tr>\n",
       "      <th>1</th>\n",
       "      <td>FIBBG000B9XRY4</td>\n",
       "      <td>2023-01-04</td>\n",
       "      <td>125.4975</td>\n",
       "    </tr>\n",
       "    <tr>\n",
       "      <th>2</th>\n",
       "      <td>FIBBG000B9XRY4</td>\n",
       "      <td>2023-01-05</td>\n",
       "      <td>124.1666</td>\n",
       "    </tr>\n",
       "    <tr>\n",
       "      <th>3</th>\n",
       "      <td>FIBBG000B9XRY4</td>\n",
       "      <td>2023-01-06</td>\n",
       "      <td>128.7352</td>\n",
       "    </tr>\n",
       "    <tr>\n",
       "      <th>4</th>\n",
       "      <td>FIBBG000B9XRY4</td>\n",
       "      <td>2023-01-09</td>\n",
       "      <td>129.2616</td>\n",
       "    </tr>\n",
       "  </tbody>\n",
       "</table>\n",
       "</div>"
      ],
      "text/plain": [
       "              Sid        Date     Close\n",
       "0  FIBBG000B9XRY4  2023-01-03  124.2163\n",
       "1  FIBBG000B9XRY4  2023-01-04  125.4975\n",
       "2  FIBBG000B9XRY4  2023-01-05  124.1666\n",
       "3  FIBBG000B9XRY4  2023-01-06  128.7352\n",
       "4  FIBBG000B9XRY4  2023-01-09  129.2616"
      ]
     },
     "execution_count": 5,
     "metadata": {},
     "output_type": "execute_result"
    }
   ],
   "source": [
    "df.head()"
   ]
  },
  {
   "cell_type": "code",
   "execution_count": 6,
   "id": "f348d18b-03e1-463d-82d2-72f2bcc8be00",
   "metadata": {
    "tags": []
   },
   "outputs": [],
   "source": [
    "#Function to classify states as Bull, Bear or Flat\n",
    "def classify_state(return_value):\n",
    "    if return_value > 0.01:\n",
    "        return 1\n",
    "    elif return_value < -0.01:\n",
    "        return -1\n",
    "    else:\n",
    "        return 0"
   ]
  },
  {
   "cell_type": "code",
   "execution_count": 7,
   "id": "13b9e6db-cbb1-4f2d-80fc-bed7e56e89c9",
   "metadata": {
    "tags": []
   },
   "outputs": [
    {
     "name": "stdout",
     "output_type": "stream",
     "text": [
      "Current State   -1   0   1\n",
      "Previous State            \n",
      "-1.0             5  26   4\n",
      " 0.0            23  94  41\n",
      " 1.0             7  38  11\n"
     ]
    }
   ],
   "source": [
    "df['returns']=df['Close'].pct_change()\n",
    "df['state'] = df['returns'].apply(classify_state)\n",
    "\n",
    "rows = [-1, 0, 1]\n",
    "columns = [-1, 0, 1]\n",
    "\n",
    "#Construct a state transition matrix\n",
    "transition_distribution = pd.crosstab(index=df['state'].shift(), columns=df['state'], rownames=['Previous State'], colnames=['Current State'], margins=False)\n",
    "\n",
    "#Before normalization\n",
    "print(transition_distribution)"
   ]
  },
  {
   "cell_type": "code",
   "execution_count": 8,
   "id": "92a099c8-9c0e-4838-b1fc-98ae362c9beb",
   "metadata": {
    "tags": []
   },
   "outputs": [
    {
     "data": {
      "text/plain": [
       "0           NaN\n",
       "1      0.010314\n",
       "2     -0.010605\n",
       "3      0.036794\n",
       "4      0.004089\n",
       "         ...   \n",
       "245   -0.005547\n",
       "246   -0.002841\n",
       "247    0.000518\n",
       "248    0.002226\n",
       "249   -0.005424\n",
       "Name: returns, Length: 250, dtype: float64"
      ]
     },
     "execution_count": 8,
     "metadata": {},
     "output_type": "execute_result"
    }
   ],
   "source": [
    "df['returns']"
   ]
  },
  {
   "cell_type": "code",
   "execution_count": 9,
   "id": "af88f83e-ad7c-46dd-90e9-cf210d623a45",
   "metadata": {
    "tags": []
   },
   "outputs": [
    {
     "data": {
      "text/plain": [
       "0      0\n",
       "1      1\n",
       "2     -1\n",
       "3      1\n",
       "4      0\n",
       "      ..\n",
       "245    0\n",
       "246    0\n",
       "247    0\n",
       "248    0\n",
       "249    0\n",
       "Name: state, Length: 250, dtype: int64"
      ]
     },
     "execution_count": 9,
     "metadata": {},
     "output_type": "execute_result"
    }
   ],
   "source": [
    "df['state']"
   ]
  },
  {
   "cell_type": "code",
   "execution_count": 11,
   "id": "724f5d2e-3a89-4577-924e-b329aa6fc011",
   "metadata": {
    "tags": []
   },
   "outputs": [
    {
     "name": "stdout",
     "output_type": "stream",
     "text": [
      "Current State         -1         0         1\n",
      "Previous State                              \n",
      "-1.0            0.142857  0.164557  0.071429\n",
      " 0.0            0.657143  0.594937  0.732143\n",
      " 1.0            0.200000  0.240506  0.196429\n"
     ]
    }
   ],
   "source": [
    "for i in range(1,len(df)):\n",
    "    s_d=df['state'][i-1]\n",
    "    s_d_plus_1=df['state'][i]\n",
    "    transition_distribution.loc[s_d,s_d_plus_1]+=1\n",
    "\n",
    "transition_distribution=transition_distribution/transition_distribution.sum()\n",
    "\n",
    "#After normalization\n",
    "print(transition_distribution)"
   ]
  },
  {
   "cell_type": "code",
   "execution_count": 12,
   "id": "e51cfc7d-a4c3-40da-a54f-a5858f14eacc",
   "metadata": {
    "tags": []
   },
   "outputs": [],
   "source": [
    "#Function to calculate value based on all transition combinations\n",
    "def calculate_value_function(transition_distribution, num_days):\n",
    "    value_function = [0] * num_days\n",
    "    for d in range(num_days - 1, -1, -1):\n",
    "        if d + 1 < len(transition_distribution):\n",
    "            value_function[d] = max(\n",
    "                transition_distribution.loc[-1.0, -1] * value_function[d + 1] + 1,\n",
    "                transition_distribution.loc[-1.0, 0] * value_function[d + 1] - 1,\n",
    "                transition_distribution.loc[-1.0, 1] * value_function[d + 1],\n",
    "                transition_distribution.loc[0.0, -1] * value_function[d + 1] - 1,\n",
    "                transition_distribution.loc[0.0, 0] * value_function[d + 1],\n",
    "                transition_distribution.loc[0.0, 1] * value_function[d + 1] + 1,\n",
    "                transition_distribution.loc[1.0, -1] * value_function[d + 1],\n",
    "                transition_distribution.loc[1.0, 0] * value_function[d + 1] + 1,\n",
    "                transition_distribution.loc[1.0, 1] * value_function[d + 1],\n",
    "            )\n",
    "        else:\n",
    "            value_function[d] = 0    \n",
    "    return value_function"
   ]
  },
  {
   "cell_type": "code",
   "execution_count": 13,
   "id": "aa9b810f-b001-4b77-95ac-8dd03bd42454",
   "metadata": {
    "tags": []
   },
   "outputs": [],
   "source": [
    "value_function=calculate_value_function(transition_distribution,len(df))"
   ]
  },
  {
   "cell_type": "code",
   "execution_count": 14,
   "id": "9734a9b3-e80f-4834-8846-f251b16bccb4",
   "metadata": {
    "tags": []
   },
   "outputs": [],
   "source": [
    "#Function to calculate optimal buy points\n",
    "def calculate_optimal_buy_points(returns,value_function):\n",
    "    optimal_buy_points=[]\n",
    "    s_d=0\n",
    "    for i in range(1,len(returns)):\n",
    "        s_d_plus_1=df['state'][i]\n",
    "        if s_d==0 and s_d_plus_1==1:\n",
    "            optimal_buy_points.append(i)\n",
    "        s_d=s_d_plus_1\n",
    "    return optimal_buy_points"
   ]
  },
  {
   "cell_type": "code",
   "execution_count": 15,
   "id": "b06b2e88-afe6-463d-855f-f6b03549db68",
   "metadata": {
    "tags": []
   },
   "outputs": [
    {
     "name": "stdout",
     "output_type": "stream",
     "text": [
      "Value function:\n",
      " [1.7321428571428572, 1.0, 0, 0, 0, 0, 0, 0, 0, 0, 0, 0, 0, 0, 0, 0, 0, 0, 0, 0, 0, 0, 0, 0, 0, 0, 0, 0, 0, 0, 0, 0, 0, 0, 0, 0, 0, 0, 0, 0, 0, 0, 0, 0, 0, 0, 0, 0, 0, 0, 0, 0, 0, 0, 0, 0, 0, 0, 0, 0, 0, 0, 0, 0, 0, 0, 0, 0, 0, 0, 0, 0, 0, 0, 0, 0, 0, 0, 0, 0, 0, 0, 0, 0, 0, 0, 0, 0, 0, 0, 0, 0, 0, 0, 0, 0, 0, 0, 0, 0, 0, 0, 0, 0, 0, 0, 0, 0, 0, 0, 0, 0, 0, 0, 0, 0, 0, 0, 0, 0, 0, 0, 0, 0, 0, 0, 0, 0, 0, 0, 0, 0, 0, 0, 0, 0, 0, 0, 0, 0, 0, 0, 0, 0, 0, 0, 0, 0, 0, 0, 0, 0, 0, 0, 0, 0, 0, 0, 0, 0, 0, 0, 0, 0, 0, 0, 0, 0, 0, 0, 0, 0, 0, 0, 0, 0, 0, 0, 0, 0, 0, 0, 0, 0, 0, 0, 0, 0, 0, 0, 0, 0, 0, 0, 0, 0, 0, 0, 0, 0, 0, 0, 0, 0, 0, 0, 0, 0, 0, 0, 0, 0, 0, 0, 0, 0, 0, 0, 0, 0, 0, 0, 0, 0, 0, 0, 0, 0, 0, 0, 0, 0, 0, 0, 0, 0, 0, 0, 0, 0, 0, 0, 0, 0, 0, 0, 0, 0, 0, 0]\n"
     ]
    }
   ],
   "source": [
    "print('Value function:\\n', value_function)"
   ]
  },
  {
   "cell_type": "code",
   "execution_count": 16,
   "id": "a23c47ea-5d8e-4303-bb31-b68d87331b47",
   "metadata": {
    "tags": []
   },
   "outputs": [
    {
     "name": "stdout",
     "output_type": "stream",
     "text": [
      "Optimal buy points:\n",
      " [1, 6, 8, 12, 16, 21, 28, 30, 41, 50, 52, 59, 61, 69, 79, 85, 88, 94, 100, 103, 108, 110, 113, 117, 120, 123, 133, 142, 160, 164, 177, 187, 191, 207, 209, 212, 216, 218, 232, 234, 238]\n"
     ]
    }
   ],
   "source": [
    "optimal_buy_points = calculate_optimal_buy_points(df['returns'], value_function)\n",
    "\n",
    "print('Optimal buy points:\\n', optimal_buy_points)"
   ]
  }
 ],
 "metadata": {
  "kernelspec": {
   "display_name": "Python 3.9",
   "language": "python",
   "name": "python3"
  },
  "language_info": {
   "codemirror_mode": {
    "name": "ipython",
    "version": 3
   },
   "file_extension": ".py",
   "mimetype": "text/x-python",
   "name": "python",
   "nbconvert_exporter": "python",
   "pygments_lexer": "ipython3",
   "version": "3.9.12"
  }
 },
 "nbformat": 4,
 "nbformat_minor": 5
}
